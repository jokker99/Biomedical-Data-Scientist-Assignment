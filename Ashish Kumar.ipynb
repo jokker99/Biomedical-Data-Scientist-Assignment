{
 "cells": [
  {
   "cell_type": "markdown",
   "metadata": {},
   "source": [
    "#  Biomedical Data Scientist Assignment"
   ]
  },
  {
   "cell_type": "markdown",
   "metadata": {},
   "source": [
    "## Loading Libraries"
   ]
  },
  {
   "cell_type": "markdown",
   "metadata": {},
   "source": [
    "imported pandas, math and matplotlib libraries to work on data handling, data query and ploting graph respectiviely"
   ]
  },
  {
   "cell_type": "code",
   "execution_count": 1,
   "metadata": {},
   "outputs": [],
   "source": [
    "import pandas as pd\n",
    "import math\n",
    "import matplotlib.pyplot as plt"
   ]
  },
  {
   "cell_type": "markdown",
   "metadata": {},
   "source": [
    "## Importing data and cleaning with help of pandas"
   ]
  },
  {
   "cell_type": "code",
   "execution_count": 2,
   "metadata": {},
   "outputs": [
    {
     "data": {
      "text/html": [
       "<div>\n",
       "<style scoped>\n",
       "    .dataframe tbody tr th:only-of-type {\n",
       "        vertical-align: middle;\n",
       "    }\n",
       "\n",
       "    .dataframe tbody tr th {\n",
       "        vertical-align: top;\n",
       "    }\n",
       "\n",
       "    .dataframe thead th {\n",
       "        text-align: right;\n",
       "    }\n",
       "</style>\n",
       "<table border=\"1\" class=\"dataframe\">\n",
       "  <thead>\n",
       "    <tr style=\"text-align: right;\">\n",
       "      <th></th>\n",
       "      <th>1</th>\n",
       "      <th>2</th>\n",
       "      <th>3</th>\n",
       "    </tr>\n",
       "  </thead>\n",
       "  <tbody>\n",
       "    <tr>\n",
       "      <th>0</th>\n",
       "      <td>26D5</td>\n",
       "      <td>FE97</td>\n",
       "      <td>FC0B</td>\n",
       "    </tr>\n",
       "    <tr>\n",
       "      <th>1</th>\n",
       "      <td>26D6</td>\n",
       "      <td>FE99</td>\n",
       "      <td>FC0C</td>\n",
       "    </tr>\n",
       "    <tr>\n",
       "      <th>2</th>\n",
       "      <td>26D6</td>\n",
       "      <td>FE9B</td>\n",
       "      <td>FC0B</td>\n",
       "    </tr>\n",
       "    <tr>\n",
       "      <th>3</th>\n",
       "      <td>26D5</td>\n",
       "      <td>FE97</td>\n",
       "      <td>FC0A</td>\n",
       "    </tr>\n",
       "    <tr>\n",
       "      <th>4</th>\n",
       "      <td>26D6</td>\n",
       "      <td>FE8E</td>\n",
       "      <td>FC10</td>\n",
       "    </tr>\n",
       "    <tr>\n",
       "      <th>...</th>\n",
       "      <td>...</td>\n",
       "      <td>...</td>\n",
       "      <td>...</td>\n",
       "    </tr>\n",
       "    <tr>\n",
       "      <th>3405</th>\n",
       "      <td>26F9</td>\n",
       "      <td>FDE8</td>\n",
       "      <td>FE6C</td>\n",
       "    </tr>\n",
       "    <tr>\n",
       "      <th>3406</th>\n",
       "      <td>26F9</td>\n",
       "      <td>FDE8</td>\n",
       "      <td>FE6C</td>\n",
       "    </tr>\n",
       "    <tr>\n",
       "      <th>3407</th>\n",
       "      <td>26F9</td>\n",
       "      <td>FDE5</td>\n",
       "      <td>FE6C</td>\n",
       "    </tr>\n",
       "    <tr>\n",
       "      <th>3408</th>\n",
       "      <td>26F8</td>\n",
       "      <td>FDE2</td>\n",
       "      <td>FE6C</td>\n",
       "    </tr>\n",
       "    <tr>\n",
       "      <th>3409</th>\n",
       "      <td>26F8</td>\n",
       "      <td>FDDE</td>\n",
       "      <td>FE6C</td>\n",
       "    </tr>\n",
       "  </tbody>\n",
       "</table>\n",
       "<p>3410 rows × 3 columns</p>\n",
       "</div>"
      ],
      "text/plain": [
       "         1     2     3\n",
       "0     26D5  FE97  FC0B\n",
       "1     26D6  FE99  FC0C\n",
       "2     26D6  FE9B  FC0B\n",
       "3     26D5  FE97  FC0A\n",
       "4     26D6  FE8E  FC10\n",
       "...    ...   ...   ...\n",
       "3405  26F9  FDE8  FE6C\n",
       "3406  26F9  FDE8  FE6C\n",
       "3407  26F9  FDE5  FE6C\n",
       "3408  26F8  FDE2  FE6C\n",
       "3409  26F8  FDDE  FE6C\n",
       "\n",
       "[3410 rows x 3 columns]"
      ]
     },
     "execution_count": 2,
     "metadata": {},
     "output_type": "execute_result"
    }
   ],
   "source": [
    "df=pd.read_table('Mudra Dataset.txt',header=None, sep = \",\")\n",
    "df = df.drop(10, axis=1)\n",
    "df = df.drop(9, axis=1)\n",
    "df = df.drop(8, axis=1)\n",
    "df = df.drop(7, axis=1)\n",
    "df = df.drop(6, axis=1)\n",
    "df = df.drop(5, axis=1)\n",
    "df = df.drop(4, axis=1)\n",
    "df = df.drop(0, axis=1)\n",
    "df"
   ]
  },
  {
   "cell_type": "markdown",
   "metadata": {},
   "source": [
    "### Converting Hexadecimal values in data to Decimal Values by Self defined function"
   ]
  },
  {
   "cell_type": "code",
   "execution_count": 3,
   "metadata": {},
   "outputs": [],
   "source": [
    "def HextoDec (string):\n",
    "    ret = 0\n",
    "    for i,d in enumerate(string) : \n",
    "        hex = \"0123456789ABCDEF\"\n",
    "        value= hex.index(d)\n",
    "        power = (len(string) -(i+1))\n",
    "        ret += (value*16**power)\n",
    "    return ret"
   ]
  },
  {
   "cell_type": "code",
   "execution_count": 4,
   "metadata": {},
   "outputs": [
    {
     "data": {
      "text/html": [
       "<div>\n",
       "<style scoped>\n",
       "    .dataframe tbody tr th:only-of-type {\n",
       "        vertical-align: middle;\n",
       "    }\n",
       "\n",
       "    .dataframe tbody tr th {\n",
       "        vertical-align: top;\n",
       "    }\n",
       "\n",
       "    .dataframe thead th {\n",
       "        text-align: right;\n",
       "    }\n",
       "</style>\n",
       "<table border=\"1\" class=\"dataframe\">\n",
       "  <thead>\n",
       "    <tr style=\"text-align: right;\">\n",
       "      <th></th>\n",
       "      <th>1</th>\n",
       "      <th>2</th>\n",
       "      <th>3</th>\n",
       "    </tr>\n",
       "  </thead>\n",
       "  <tbody>\n",
       "    <tr>\n",
       "      <th>0</th>\n",
       "      <td>9941</td>\n",
       "      <td>65175</td>\n",
       "      <td>64523</td>\n",
       "    </tr>\n",
       "    <tr>\n",
       "      <th>1</th>\n",
       "      <td>9942</td>\n",
       "      <td>65177</td>\n",
       "      <td>64524</td>\n",
       "    </tr>\n",
       "    <tr>\n",
       "      <th>2</th>\n",
       "      <td>9942</td>\n",
       "      <td>65179</td>\n",
       "      <td>64523</td>\n",
       "    </tr>\n",
       "    <tr>\n",
       "      <th>3</th>\n",
       "      <td>9941</td>\n",
       "      <td>65175</td>\n",
       "      <td>64522</td>\n",
       "    </tr>\n",
       "    <tr>\n",
       "      <th>4</th>\n",
       "      <td>9942</td>\n",
       "      <td>65166</td>\n",
       "      <td>64528</td>\n",
       "    </tr>\n",
       "    <tr>\n",
       "      <th>...</th>\n",
       "      <td>...</td>\n",
       "      <td>...</td>\n",
       "      <td>...</td>\n",
       "    </tr>\n",
       "    <tr>\n",
       "      <th>3405</th>\n",
       "      <td>9977</td>\n",
       "      <td>65000</td>\n",
       "      <td>65132</td>\n",
       "    </tr>\n",
       "    <tr>\n",
       "      <th>3406</th>\n",
       "      <td>9977</td>\n",
       "      <td>65000</td>\n",
       "      <td>65132</td>\n",
       "    </tr>\n",
       "    <tr>\n",
       "      <th>3407</th>\n",
       "      <td>9977</td>\n",
       "      <td>64997</td>\n",
       "      <td>65132</td>\n",
       "    </tr>\n",
       "    <tr>\n",
       "      <th>3408</th>\n",
       "      <td>9976</td>\n",
       "      <td>64994</td>\n",
       "      <td>65132</td>\n",
       "    </tr>\n",
       "    <tr>\n",
       "      <th>3409</th>\n",
       "      <td>9976</td>\n",
       "      <td>64990</td>\n",
       "      <td>65132</td>\n",
       "    </tr>\n",
       "  </tbody>\n",
       "</table>\n",
       "<p>3410 rows × 3 columns</p>\n",
       "</div>"
      ],
      "text/plain": [
       "         1      2      3\n",
       "0     9941  65175  64523\n",
       "1     9942  65177  64524\n",
       "2     9942  65179  64523\n",
       "3     9941  65175  64522\n",
       "4     9942  65166  64528\n",
       "...    ...    ...    ...\n",
       "3405  9977  65000  65132\n",
       "3406  9977  65000  65132\n",
       "3407  9977  64997  65132\n",
       "3408  9976  64994  65132\n",
       "3409  9976  64990  65132\n",
       "\n",
       "[3410 rows x 3 columns]"
      ]
     },
     "execution_count": 4,
     "metadata": {},
     "output_type": "execute_result"
    }
   ],
   "source": [
    "a = []\n",
    "for i in df[1]:\n",
    "    a.append(HextoDec(i)) \n",
    "b = []\n",
    "for i in df[2]:\n",
    "    b.append(HextoDec(i)) \n",
    "c = []\n",
    "for i in df[3]:\n",
    "    c.append(HextoDec(i)) \n",
    "    \n",
    "df[1] = a\n",
    "df[2] = b\n",
    "df[3] = c\n",
    "\n",
    "df"
   ]
  },
  {
   "cell_type": "markdown",
   "metadata": {
    "scrolled": true
   },
   "source": [
    "### Renaming the cloumns as x, y, z "
   ]
  },
  {
   "cell_type": "code",
   "execution_count": 5,
   "metadata": {},
   "outputs": [
    {
     "data": {
      "text/html": [
       "<div>\n",
       "<style scoped>\n",
       "    .dataframe tbody tr th:only-of-type {\n",
       "        vertical-align: middle;\n",
       "    }\n",
       "\n",
       "    .dataframe tbody tr th {\n",
       "        vertical-align: top;\n",
       "    }\n",
       "\n",
       "    .dataframe thead th {\n",
       "        text-align: right;\n",
       "    }\n",
       "</style>\n",
       "<table border=\"1\" class=\"dataframe\">\n",
       "  <thead>\n",
       "    <tr style=\"text-align: right;\">\n",
       "      <th></th>\n",
       "      <th>x</th>\n",
       "      <th>y</th>\n",
       "      <th>z</th>\n",
       "    </tr>\n",
       "  </thead>\n",
       "  <tbody>\n",
       "    <tr>\n",
       "      <th>0</th>\n",
       "      <td>9941</td>\n",
       "      <td>65175</td>\n",
       "      <td>64523</td>\n",
       "    </tr>\n",
       "    <tr>\n",
       "      <th>1</th>\n",
       "      <td>9942</td>\n",
       "      <td>65177</td>\n",
       "      <td>64524</td>\n",
       "    </tr>\n",
       "    <tr>\n",
       "      <th>2</th>\n",
       "      <td>9942</td>\n",
       "      <td>65179</td>\n",
       "      <td>64523</td>\n",
       "    </tr>\n",
       "    <tr>\n",
       "      <th>3</th>\n",
       "      <td>9941</td>\n",
       "      <td>65175</td>\n",
       "      <td>64522</td>\n",
       "    </tr>\n",
       "    <tr>\n",
       "      <th>4</th>\n",
       "      <td>9942</td>\n",
       "      <td>65166</td>\n",
       "      <td>64528</td>\n",
       "    </tr>\n",
       "    <tr>\n",
       "      <th>...</th>\n",
       "      <td>...</td>\n",
       "      <td>...</td>\n",
       "      <td>...</td>\n",
       "    </tr>\n",
       "    <tr>\n",
       "      <th>3405</th>\n",
       "      <td>9977</td>\n",
       "      <td>65000</td>\n",
       "      <td>65132</td>\n",
       "    </tr>\n",
       "    <tr>\n",
       "      <th>3406</th>\n",
       "      <td>9977</td>\n",
       "      <td>65000</td>\n",
       "      <td>65132</td>\n",
       "    </tr>\n",
       "    <tr>\n",
       "      <th>3407</th>\n",
       "      <td>9977</td>\n",
       "      <td>64997</td>\n",
       "      <td>65132</td>\n",
       "    </tr>\n",
       "    <tr>\n",
       "      <th>3408</th>\n",
       "      <td>9976</td>\n",
       "      <td>64994</td>\n",
       "      <td>65132</td>\n",
       "    </tr>\n",
       "    <tr>\n",
       "      <th>3409</th>\n",
       "      <td>9976</td>\n",
       "      <td>64990</td>\n",
       "      <td>65132</td>\n",
       "    </tr>\n",
       "  </tbody>\n",
       "</table>\n",
       "<p>3410 rows × 3 columns</p>\n",
       "</div>"
      ],
      "text/plain": [
       "         x      y      z\n",
       "0     9941  65175  64523\n",
       "1     9942  65177  64524\n",
       "2     9942  65179  64523\n",
       "3     9941  65175  64522\n",
       "4     9942  65166  64528\n",
       "...    ...    ...    ...\n",
       "3405  9977  65000  65132\n",
       "3406  9977  65000  65132\n",
       "3407  9977  64997  65132\n",
       "3408  9976  64994  65132\n",
       "3409  9976  64990  65132\n",
       "\n",
       "[3410 rows x 3 columns]"
      ]
     },
     "execution_count": 5,
     "metadata": {},
     "output_type": "execute_result"
    }
   ],
   "source": [
    "df = df.rename(columns = {1:'x',2:'y',3:'z'}, inplace=False )\n",
    "df"
   ]
  },
  {
   "cell_type": "markdown",
   "metadata": {},
   "source": [
    "## Applying the given algorithm"
   ]
  },
  {
   "cell_type": "code",
   "execution_count": 6,
   "metadata": {},
   "outputs": [
    {
     "data": {
      "text/plain": [
       "0       0.9941\n",
       "1       0.9942\n",
       "2       0.9942\n",
       "3       0.9941\n",
       "4       0.9942\n",
       "         ...  \n",
       "3405    0.9977\n",
       "3406    0.9977\n",
       "3407    0.9977\n",
       "3408    0.9976\n",
       "3409    0.9976\n",
       "Name: x, Length: 3410, dtype: float64"
      ]
     },
     "execution_count": 6,
     "metadata": {},
     "output_type": "execute_result"
    }
   ],
   "source": [
    "p = []\n",
    "for i in df['x']:\n",
    "    if i > 32767:\n",
    "        i = i - 65535\n",
    "    else:\n",
    "        i = i\n",
    "    q=i/10000\n",
    "    p.append(q)\n",
    "df['x'] = p\n",
    "df['x']"
   ]
  },
  {
   "cell_type": "code",
   "execution_count": 7,
   "metadata": {},
   "outputs": [],
   "source": [
    "r = []\n",
    "for i in df['y']:\n",
    "    if i > 32767:\n",
    "        i = i - 65535\n",
    "    else:\n",
    "        i = i\n",
    "    q=i/10000\n",
    "    r.append(q)\n",
    "df['y'] = r"
   ]
  },
  {
   "cell_type": "code",
   "execution_count": 8,
   "metadata": {},
   "outputs": [],
   "source": [
    "s = []\n",
    "for i in df['z']:\n",
    "    if i > 32767:\n",
    "        i = i - 65535\n",
    "    else:\n",
    "        i = i\n",
    "    q=i/10000\n",
    "    s.append(q)\n",
    "df['z'] = s"
   ]
  },
  {
   "cell_type": "code",
   "execution_count": 9,
   "metadata": {},
   "outputs": [
    {
     "data": {
      "text/html": [
       "<div>\n",
       "<style scoped>\n",
       "    .dataframe tbody tr th:only-of-type {\n",
       "        vertical-align: middle;\n",
       "    }\n",
       "\n",
       "    .dataframe tbody tr th {\n",
       "        vertical-align: top;\n",
       "    }\n",
       "\n",
       "    .dataframe thead th {\n",
       "        text-align: right;\n",
       "    }\n",
       "</style>\n",
       "<table border=\"1\" class=\"dataframe\">\n",
       "  <thead>\n",
       "    <tr style=\"text-align: right;\">\n",
       "      <th></th>\n",
       "      <th>x</th>\n",
       "      <th>y</th>\n",
       "      <th>z</th>\n",
       "    </tr>\n",
       "  </thead>\n",
       "  <tbody>\n",
       "    <tr>\n",
       "      <th>0</th>\n",
       "      <td>0.9941</td>\n",
       "      <td>-0.0360</td>\n",
       "      <td>-0.1012</td>\n",
       "    </tr>\n",
       "    <tr>\n",
       "      <th>1</th>\n",
       "      <td>0.9942</td>\n",
       "      <td>-0.0358</td>\n",
       "      <td>-0.1011</td>\n",
       "    </tr>\n",
       "    <tr>\n",
       "      <th>2</th>\n",
       "      <td>0.9942</td>\n",
       "      <td>-0.0356</td>\n",
       "      <td>-0.1012</td>\n",
       "    </tr>\n",
       "    <tr>\n",
       "      <th>3</th>\n",
       "      <td>0.9941</td>\n",
       "      <td>-0.0360</td>\n",
       "      <td>-0.1013</td>\n",
       "    </tr>\n",
       "    <tr>\n",
       "      <th>4</th>\n",
       "      <td>0.9942</td>\n",
       "      <td>-0.0369</td>\n",
       "      <td>-0.1007</td>\n",
       "    </tr>\n",
       "    <tr>\n",
       "      <th>...</th>\n",
       "      <td>...</td>\n",
       "      <td>...</td>\n",
       "      <td>...</td>\n",
       "    </tr>\n",
       "    <tr>\n",
       "      <th>3405</th>\n",
       "      <td>0.9977</td>\n",
       "      <td>-0.0535</td>\n",
       "      <td>-0.0403</td>\n",
       "    </tr>\n",
       "    <tr>\n",
       "      <th>3406</th>\n",
       "      <td>0.9977</td>\n",
       "      <td>-0.0535</td>\n",
       "      <td>-0.0403</td>\n",
       "    </tr>\n",
       "    <tr>\n",
       "      <th>3407</th>\n",
       "      <td>0.9977</td>\n",
       "      <td>-0.0538</td>\n",
       "      <td>-0.0403</td>\n",
       "    </tr>\n",
       "    <tr>\n",
       "      <th>3408</th>\n",
       "      <td>0.9976</td>\n",
       "      <td>-0.0541</td>\n",
       "      <td>-0.0403</td>\n",
       "    </tr>\n",
       "    <tr>\n",
       "      <th>3409</th>\n",
       "      <td>0.9976</td>\n",
       "      <td>-0.0545</td>\n",
       "      <td>-0.0403</td>\n",
       "    </tr>\n",
       "  </tbody>\n",
       "</table>\n",
       "<p>3410 rows × 3 columns</p>\n",
       "</div>"
      ],
      "text/plain": [
       "           x       y       z\n",
       "0     0.9941 -0.0360 -0.1012\n",
       "1     0.9942 -0.0358 -0.1011\n",
       "2     0.9942 -0.0356 -0.1012\n",
       "3     0.9941 -0.0360 -0.1013\n",
       "4     0.9942 -0.0369 -0.1007\n",
       "...      ...     ...     ...\n",
       "3405  0.9977 -0.0535 -0.0403\n",
       "3406  0.9977 -0.0535 -0.0403\n",
       "3407  0.9977 -0.0538 -0.0403\n",
       "3408  0.9976 -0.0541 -0.0403\n",
       "3409  0.9976 -0.0545 -0.0403\n",
       "\n",
       "[3410 rows x 3 columns]"
      ]
     },
     "execution_count": 9,
     "metadata": {},
     "output_type": "execute_result"
    }
   ],
   "source": [
    "df"
   ]
  },
  {
   "cell_type": "markdown",
   "metadata": {},
   "source": [
    "## Converting radian value to degree using Math Library"
   ]
  },
  {
   "cell_type": "code",
   "execution_count": 10,
   "metadata": {},
   "outputs": [
    {
     "data": {
      "text/plain": [
       "0       6.226979\n",
       "1       6.173931\n",
       "2       6.173931\n",
       "3       6.226979\n",
       "4       6.173931\n",
       "          ...   \n",
       "3405    3.886734\n",
       "3406    3.886734\n",
       "3407    3.886734\n",
       "3408    3.970362\n",
       "3409    3.970362\n",
       "Name: x, Length: 3410, dtype: float64"
      ]
     },
     "execution_count": 10,
     "metadata": {},
     "output_type": "execute_result"
    }
   ],
   "source": [
    "m = []\n",
    "for i in df['x']:\n",
    "    x = (math.acos(i)*180)/math.pi\n",
    "    m.append(x)\n",
    "df['x'] = m\n",
    "df['x']"
   ]
  },
  {
   "cell_type": "code",
   "execution_count": 11,
   "metadata": {},
   "outputs": [
    {
     "data": {
      "text/plain": [
       "0      -5.808276\n",
       "1      -5.802517\n",
       "2      -5.808276\n",
       "3      -5.814035\n",
       "4      -5.779481\n",
       "          ...   \n",
       "3405   -2.309645\n",
       "3406   -2.309645\n",
       "3407   -2.309645\n",
       "3408   -2.309645\n",
       "3409   -2.309645\n",
       "Name: z, Length: 3410, dtype: float64"
      ]
     },
     "execution_count": 11,
     "metadata": {},
     "output_type": "execute_result"
    }
   ],
   "source": [
    "n = []\n",
    "for i in df['z']:\n",
    "    z = (math.asin(i)*180)/math.pi\n",
    "    n.append(z)\n",
    "df['z'] = n\n",
    "df['z']"
   ]
  },
  {
   "cell_type": "code",
   "execution_count": 12,
   "metadata": {},
   "outputs": [
    {
     "data": {
      "text/html": [
       "<div>\n",
       "<style scoped>\n",
       "    .dataframe tbody tr th:only-of-type {\n",
       "        vertical-align: middle;\n",
       "    }\n",
       "\n",
       "    .dataframe tbody tr th {\n",
       "        vertical-align: top;\n",
       "    }\n",
       "\n",
       "    .dataframe thead th {\n",
       "        text-align: right;\n",
       "    }\n",
       "</style>\n",
       "<table border=\"1\" class=\"dataframe\">\n",
       "  <thead>\n",
       "    <tr style=\"text-align: right;\">\n",
       "      <th></th>\n",
       "      <th>x</th>\n",
       "      <th>y</th>\n",
       "      <th>z</th>\n",
       "    </tr>\n",
       "  </thead>\n",
       "  <tbody>\n",
       "    <tr>\n",
       "      <th>0</th>\n",
       "      <td>6.226979</td>\n",
       "      <td>-0.0360</td>\n",
       "      <td>-5.808276</td>\n",
       "    </tr>\n",
       "    <tr>\n",
       "      <th>1</th>\n",
       "      <td>6.173931</td>\n",
       "      <td>-0.0358</td>\n",
       "      <td>-5.802517</td>\n",
       "    </tr>\n",
       "    <tr>\n",
       "      <th>2</th>\n",
       "      <td>6.173931</td>\n",
       "      <td>-0.0356</td>\n",
       "      <td>-5.808276</td>\n",
       "    </tr>\n",
       "    <tr>\n",
       "      <th>3</th>\n",
       "      <td>6.226979</td>\n",
       "      <td>-0.0360</td>\n",
       "      <td>-5.814035</td>\n",
       "    </tr>\n",
       "    <tr>\n",
       "      <th>4</th>\n",
       "      <td>6.173931</td>\n",
       "      <td>-0.0369</td>\n",
       "      <td>-5.779481</td>\n",
       "    </tr>\n",
       "    <tr>\n",
       "      <th>...</th>\n",
       "      <td>...</td>\n",
       "      <td>...</td>\n",
       "      <td>...</td>\n",
       "    </tr>\n",
       "    <tr>\n",
       "      <th>3405</th>\n",
       "      <td>3.886734</td>\n",
       "      <td>-0.0535</td>\n",
       "      <td>-2.309645</td>\n",
       "    </tr>\n",
       "    <tr>\n",
       "      <th>3406</th>\n",
       "      <td>3.886734</td>\n",
       "      <td>-0.0535</td>\n",
       "      <td>-2.309645</td>\n",
       "    </tr>\n",
       "    <tr>\n",
       "      <th>3407</th>\n",
       "      <td>3.886734</td>\n",
       "      <td>-0.0538</td>\n",
       "      <td>-2.309645</td>\n",
       "    </tr>\n",
       "    <tr>\n",
       "      <th>3408</th>\n",
       "      <td>3.970362</td>\n",
       "      <td>-0.0541</td>\n",
       "      <td>-2.309645</td>\n",
       "    </tr>\n",
       "    <tr>\n",
       "      <th>3409</th>\n",
       "      <td>3.970362</td>\n",
       "      <td>-0.0545</td>\n",
       "      <td>-2.309645</td>\n",
       "    </tr>\n",
       "  </tbody>\n",
       "</table>\n",
       "<p>3410 rows × 3 columns</p>\n",
       "</div>"
      ],
      "text/plain": [
       "             x       y         z\n",
       "0     6.226979 -0.0360 -5.808276\n",
       "1     6.173931 -0.0358 -5.802517\n",
       "2     6.173931 -0.0356 -5.808276\n",
       "3     6.226979 -0.0360 -5.814035\n",
       "4     6.173931 -0.0369 -5.779481\n",
       "...        ...     ...       ...\n",
       "3405  3.886734 -0.0535 -2.309645\n",
       "3406  3.886734 -0.0535 -2.309645\n",
       "3407  3.886734 -0.0538 -2.309645\n",
       "3408  3.970362 -0.0541 -2.309645\n",
       "3409  3.970362 -0.0545 -2.309645\n",
       "\n",
       "[3410 rows x 3 columns]"
      ]
     },
     "execution_count": 12,
     "metadata": {},
     "output_type": "execute_result"
    }
   ],
   "source": [
    "df"
   ]
  },
  {
   "cell_type": "markdown",
   "metadata": {},
   "source": [
    "## Ploting Graph with help of Matplotlib library"
   ]
  },
  {
   "cell_type": "code",
   "execution_count": 13,
   "metadata": {},
   "outputs": [
    {
     "data": {
      "image/png": "[encoded data removed]",
      "text/plain": [
       "<Figure size 640x480 with 1 Axes>"
      ]
     },
     "metadata": {},
     "output_type": "display_data"
    }
   ],
   "source": [
    "x = df['x']\n",
    "z = df['z']\n",
    "plt.scatter(x,z)\n",
    "plt.show()"
   ]
  },
  {
   "cell_type": "code",
   "execution_count": 14,
   "metadata": {},
   "outputs": [
    {
     "data": {
      "image/png": "[encoded data removed]",
      "text/plain": [
       "<Figure size 640x480 with 1 Axes>"
      ]
     },
     "metadata": {},
     "output_type": "display_data"
    }
   ],
   "source": [
    "plt.plot(x)\n",
    "plt.show()"
   ]
  },
  {
   "cell_type": "code",
   "execution_count": 15,
   "metadata": {
    "scrolled": true
   },
   "outputs": [
    {
     "data": {
      "image/png": "[encoded data removed]",
      "text/plain": [
       "<Figure size 640x480 with 1 Axes>"
      ]
     },
     "metadata": {},
     "output_type": "display_data"
    }
   ],
   "source": [
    "plt.plot(z)\n",
    "plt.show()"
   ]
  },
  {
   "cell_type": "markdown",
   "metadata": {},
   "source": [
    "## Applying Threshold to gain Results"
   ]
  },
  {
   "cell_type": "code",
   "execution_count": 16,
   "metadata": {},
   "outputs": [],
   "source": [
    "Results = []\n",
    "for i in df['x']:\n",
    "    if i < 15:\n",
    "        Results.append(\"Not Slouching\")\n",
    "    else:\n",
    "        Results.append(\"Slouching\")"
   ]
  },
  {
   "cell_type": "markdown",
   "metadata": {},
   "source": [
    "## Results"
   ]
  },
  {
   "cell_type": "code",
   "execution_count": 17,
   "metadata": {},
   "outputs": [
    {
     "data": {
      "text/html": [
       "<div>\n",
       "<style scoped>\n",
       "    .dataframe tbody tr th:only-of-type {\n",
       "        vertical-align: middle;\n",
       "    }\n",
       "\n",
       "    .dataframe tbody tr th {\n",
       "        vertical-align: top;\n",
       "    }\n",
       "\n",
       "    .dataframe thead th {\n",
       "        text-align: right;\n",
       "    }\n",
       "</style>\n",
       "<table border=\"1\" class=\"dataframe\">\n",
       "  <thead>\n",
       "    <tr style=\"text-align: right;\">\n",
       "      <th></th>\n",
       "      <th>x</th>\n",
       "      <th>y</th>\n",
       "      <th>z</th>\n",
       "      <th>Results</th>\n",
       "    </tr>\n",
       "  </thead>\n",
       "  <tbody>\n",
       "    <tr>\n",
       "      <th>0</th>\n",
       "      <td>6.226979</td>\n",
       "      <td>-0.0360</td>\n",
       "      <td>-5.808276</td>\n",
       "      <td>Not Slouching</td>\n",
       "    </tr>\n",
       "    <tr>\n",
       "      <th>1</th>\n",
       "      <td>6.173931</td>\n",
       "      <td>-0.0358</td>\n",
       "      <td>-5.802517</td>\n",
       "      <td>Not Slouching</td>\n",
       "    </tr>\n",
       "    <tr>\n",
       "      <th>2</th>\n",
       "      <td>6.173931</td>\n",
       "      <td>-0.0356</td>\n",
       "      <td>-5.808276</td>\n",
       "      <td>Not Slouching</td>\n",
       "    </tr>\n",
       "    <tr>\n",
       "      <th>3</th>\n",
       "      <td>6.226979</td>\n",
       "      <td>-0.0360</td>\n",
       "      <td>-5.814035</td>\n",
       "      <td>Not Slouching</td>\n",
       "    </tr>\n",
       "    <tr>\n",
       "      <th>4</th>\n",
       "      <td>6.173931</td>\n",
       "      <td>-0.0369</td>\n",
       "      <td>-5.779481</td>\n",
       "      <td>Not Slouching</td>\n",
       "    </tr>\n",
       "    <tr>\n",
       "      <th>...</th>\n",
       "      <td>...</td>\n",
       "      <td>...</td>\n",
       "      <td>...</td>\n",
       "      <td>...</td>\n",
       "    </tr>\n",
       "    <tr>\n",
       "      <th>3405</th>\n",
       "      <td>3.886734</td>\n",
       "      <td>-0.0535</td>\n",
       "      <td>-2.309645</td>\n",
       "      <td>Not Slouching</td>\n",
       "    </tr>\n",
       "    <tr>\n",
       "      <th>3406</th>\n",
       "      <td>3.886734</td>\n",
       "      <td>-0.0535</td>\n",
       "      <td>-2.309645</td>\n",
       "      <td>Not Slouching</td>\n",
       "    </tr>\n",
       "    <tr>\n",
       "      <th>3407</th>\n",
       "      <td>3.886734</td>\n",
       "      <td>-0.0538</td>\n",
       "      <td>-2.309645</td>\n",
       "      <td>Not Slouching</td>\n",
       "    </tr>\n",
       "    <tr>\n",
       "      <th>3408</th>\n",
       "      <td>3.970362</td>\n",
       "      <td>-0.0541</td>\n",
       "      <td>-2.309645</td>\n",
       "      <td>Not Slouching</td>\n",
       "    </tr>\n",
       "    <tr>\n",
       "      <th>3409</th>\n",
       "      <td>3.970362</td>\n",
       "      <td>-0.0545</td>\n",
       "      <td>-2.309645</td>\n",
       "      <td>Not Slouching</td>\n",
       "    </tr>\n",
       "  </tbody>\n",
       "</table>\n",
       "<p>3410 rows × 4 columns</p>\n",
       "</div>"
      ],
      "text/plain": [
       "             x       y         z        Results\n",
       "0     6.226979 -0.0360 -5.808276  Not Slouching\n",
       "1     6.173931 -0.0358 -5.802517  Not Slouching\n",
       "2     6.173931 -0.0356 -5.808276  Not Slouching\n",
       "3     6.226979 -0.0360 -5.814035  Not Slouching\n",
       "4     6.173931 -0.0369 -5.779481  Not Slouching\n",
       "...        ...     ...       ...            ...\n",
       "3405  3.886734 -0.0535 -2.309645  Not Slouching\n",
       "3406  3.886734 -0.0535 -2.309645  Not Slouching\n",
       "3407  3.886734 -0.0538 -2.309645  Not Slouching\n",
       "3408  3.970362 -0.0541 -2.309645  Not Slouching\n",
       "3409  3.970362 -0.0545 -2.309645  Not Slouching\n",
       "\n",
       "[3410 rows x 4 columns]"
      ]
     },
     "execution_count": 17,
     "metadata": {},
     "output_type": "execute_result"
    }
   ],
   "source": [
    "df[\"Results\"] = Results\n",
    "df"
   ]
  }
 ],
 "metadata": {
  "kernelspec": {
   "display_name": "Python 3",
   "language": "python",
   "name": "python3"
  },
  "language_info": {
   "codemirror_mode": {
    "name": "ipython",
    "version": 3
   },
   "file_extension": ".py",
   "mimetype": "text/x-python",
   "name": "python",
   "nbconvert_exporter": "python",
   "pygments_lexer": "ipython3",
   "version": "3.7.4"
  }
 },
 "nbformat": 4,
 "nbformat_minor": 4
}
